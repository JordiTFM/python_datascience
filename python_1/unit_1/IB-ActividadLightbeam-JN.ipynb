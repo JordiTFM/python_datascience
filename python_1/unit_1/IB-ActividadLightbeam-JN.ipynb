{
 "cells": [
  {
   "cell_type": "markdown",
   "metadata": {
    "id": "isnt8AJ_AVkK"
   },
   "source": [
    "<div style=\"width: 100%; clear: both;\">\n",
    "    <div style=\"float: left; width: 50%;\">\n",
    "       <img src=\"https://www.uoc.edu/content/experience-fragments/uoc-common/ww/ca/site/header/master/_jcr_content/root/container/uocheader/image.coreimg.png/1707386740074/logo.png\", align=\"left\">\n",
    "    </div>\n",
    "</div>\n",
    "\n",
    "<div style=\"float: right; width: 50%;\">\n",
    "    <p style=\"margin: 0; padding-top: 22px; text-align:right;\">M1.771 · Privacidad</p>\n",
    "    <p style=\"margin: 0; text-align:right;\">Máster Universitario en Ciberseguridad y Privacidad</p>\n",
    "    <p style=\"margin: 0; text-align:right; padding-button: 100px;\">Estudios de Informática, Multimedia y Telecomunicación</p>\n",
    "</div>\n",
    "\n",
    "</div>\n",
    "<div style=\"width: 100%; clear: both;\">\n",
    "<div style=\"width:100%;\">&nbsp;</div>"
   ]
  },
  {
   "cell_type": "markdown",
   "metadata": {
    "id": "I5dXgRwkAVkS"
   },
   "source": [
    "Privacidad\n",
    "============================\n",
    "\n",
    "--- \n",
    "\n",
    "PEC2 - Actividad 3 con datos de Lightbeam\n",
    "-----------------------------------------------------\n",
    "\n",
    "Este *notebook* es una herramienta para responder a las preguntas planteadas en\n",
    "la activitad 3 de la PEC2.\n",
    "\n",
    "### Introducción\n",
    "El conjunto de datos con el que vamos a trabajar (`ThunderbeamData.json`)\n",
    "consta de las páginas registradas con Lightbeam, la extensión del navegador\n",
    "que utiliza visualizaciones interactivas para mostrarnos las relaciones entre \n",
    "terceros y las páginas que visitamos. "
   ]
  },
  {
   "cell_type": "code",
   "execution_count": 2,
   "metadata": {
    "id": "LqKPCymOAVkT"
   },
   "outputs": [],
   "source": [
    "import pandas as pd\n",
    "import json\n",
    "\n",
    "# Generamos un dataframe con los datos que hemos descargado del Lightbeam.\n",
    "# JN Puesto que el formato no es compatible con pd.read_json, lo cargamos primero con json.load() y creamos el df a medida\n",
    "# df = pd.read_json('lightbeamDataPEC2.json')\n",
    "# df = df.transpose()\n",
    "\n",
    "with open('lightbeamDataPEC2.json', \"r\", encoding=\"utf-8\") as f:\n",
    "    data = json.load(f)\n",
    "\n",
    "websites = data.get(\"websites\", {})\n",
    "rows = []\n",
    "for domain, info in websites.items():\n",
    "    row = {\n",
    "        \"hostname\": info.get(\"hostname\"),\n",
    "        \"firstParty\": info.get(\"firstParty\", False),\n",
    "        \"firstPartyHostnames\": info.get(\"firstPartyHostnames\", []),\n",
    "        \"thirdParties\": info.get(\"thirdParties\", [])\n",
    "    }\n",
    "    rows.append(row)\n",
    "df = pd.DataFrame(rows, columns=[\"hostname\", \"firstParty\", \"firstPartyHostnames\", \"thirdParties\"])\n",
    "\n",
    "# # Restringimos los registros a las páginas que hemos visitado.\n",
    "pagina = df[df.firstParty == True]"
   ]
  },
  {
   "cell_type": "code",
   "execution_count": 3,
   "metadata": {
    "id": "tfQd0d0-AVkT",
    "outputId": "e6ea64e8-e8cc-41b5-fd46-f4ba89d6c6b5",
    "scrolled": true
   },
   "outputs": [
    {
     "name": "stdout",
     "output_type": "stream",
     "text": [
      "['hostname' 'firstParty' 'firstPartyHostnames' 'thirdParties']\n",
      "53           www.amazon.es\n",
      "55    www.elcorteingles.es\n",
      "60       www.mediamarkt.es\n",
      "61       www.microsoft.com\n",
      "62            www.omya.com\n",
      "63             www.uoc.edu\n",
      "Name: hostname, dtype: object\n"
     ]
    }
   ],
   "source": [
    "# Imprimimos las columnas del dataframe que hemos cargado.\n",
    "print(pagina.columns.values)\n",
    "\n",
    "# Imprimimos la lista de páginas que hemos visitado.\n",
    "print(pagina.hostname)"
   ]
  },
  {
   "cell_type": "code",
   "execution_count": 4,
   "metadata": {
    "id": "-9piy2eiAVkU"
   },
   "outputs": [],
   "source": [
    "# Generamos las parejas de páginas, la lista de terceros en común, y cuántos son.\n",
    "PaginesTercers = [[pagina.hostname[u], \n",
    "                   pagina.hostname[v], \n",
    "                   list(set(pagina.thirdParties[u]) & set(pagina.thirdParties[v])), \n",
    "                   len(list(set(pagina.thirdParties[u]) & set(pagina.thirdParties[v])))]\n",
    "                  for u in pagina.index \n",
    "                  for v in pagina.index\n",
    "                  if u != v]\n",
    "\n",
    "# Convertimos los datos que hemos calculado en un dataframe.\n",
    "PaginesTercers = pd.DataFrame(PaginesTercers, \n",
    "                              columns = ['Pagina1', \n",
    "                                         'Pagina2', \n",
    "                                         'TercersEnComu', \n",
    "                                         'Interseccio'])  "
   ]
  },
  {
   "cell_type": "markdown",
   "metadata": {},
   "source": [
    "Pregunta 1 - Número total de terceros"
   ]
  },
  {
   "cell_type": "code",
   "execution_count": 18,
   "metadata": {},
   "outputs": [
    {
     "name": "stdout",
     "output_type": "stream",
     "text": [
      "Número total de terceros: 59\n"
     ]
    }
   ],
   "source": [
    "# JN Calculamos el número de terceros conectados iteramos por data[\"websites\"] y descartamos las páginas que \n",
    "#    hemos visitado intencionadamente (\"firstParty\" = true)\n",
    "all_thirdParties = set()\n",
    "\n",
    "for domain, info in data[\"websites\"].items():\n",
    "    if not info[\"firstParty\"]:\n",
    "        # Es un dominio de tercero\n",
    "        all_thirdParties.add(domain)\n",
    "\n",
    "print(\"Número total de terceros:\", len(all_thirdParties))"
   ]
  },
  {
   "cell_type": "markdown",
   "metadata": {},
   "source": [
    "Pregunta 2 - Página con más terceros, y cuántos tiene"
   ]
  },
  {
   "cell_type": "code",
   "execution_count": 16,
   "metadata": {},
   "outputs": [
    {
     "name": "stdout",
     "output_type": "stream",
     "text": [
      "Página con más terceros: www.mediamarkt.es (22 terceros)\n"
     ]
    }
   ],
   "source": [
    "# Aseguramos que 'pagina' es una copia independiente del DF para evitar warnings\n",
    "pagina = pagina.copy()\n",
    "\n",
    "# Añadimos una nueva columna con el número de terceros por página\n",
    "pagina[\"num_terceros\"] = pagina[\"thirdParties\"].apply(len)\n",
    "\n",
    "# Buscamos la página con el mayor número de terceros\n",
    "pagina_max_terceros = pagina.loc[pagina[\"num_terceros\"].idxmax(), [\"hostname\", \"num_terceros\"]]\n",
    "\n",
    "print(f\"Página con más terceros: {pagina_max_terceros['hostname']} ({pagina_max_terceros['num_terceros']} terceros)\")\n"
   ]
  },
  {
   "cell_type": "markdown",
   "metadata": {},
   "source": [
    "Pregunta 3 - Las 2 páginas con más terceros en común, y cuántos son"
   ]
  },
  {
   "cell_type": "code",
   "execution_count": 10,
   "metadata": {
    "id": "ckjxAmohAVkV",
    "outputId": "23eee780-e896-4de9-e093-f90753c98cbf"
   },
   "outputs": [
    {
     "data": {
      "text/plain": [
       "Pagina1                                          www.mediamarkt.es\n",
       "Pagina2                                          www.microsoft.com\n",
       "TercersEnComu    [bat.bing.net, www.facebook.com, www.googletag...\n",
       "Interseccio                                                      6\n",
       "Name: 12, dtype: object"
      ]
     },
     "execution_count": 10,
     "metadata": {},
     "output_type": "execute_result"
    }
   ],
   "source": [
    "# Calculamos cuáles son las páginas que tienen más terceros en común.\n",
    "PaginesTercers.iloc[PaginesTercers.Interseccio.idxmax()]\n"
   ]
  },
  {
   "cell_type": "code",
   "execution_count": 11,
   "metadata": {
    "scrolled": true
   },
   "outputs": [
    {
     "data": {
      "text/html": [
       "<div>\n",
       "<style scoped>\n",
       "    .dataframe tbody tr th:only-of-type {\n",
       "        vertical-align: middle;\n",
       "    }\n",
       "\n",
       "    .dataframe tbody tr th {\n",
       "        vertical-align: top;\n",
       "    }\n",
       "\n",
       "    .dataframe thead th {\n",
       "        text-align: right;\n",
       "    }\n",
       "</style>\n",
       "<table border=\"1\" class=\"dataframe\">\n",
       "  <thead>\n",
       "    <tr style=\"text-align: right;\">\n",
       "      <th></th>\n",
       "      <th>Pagina1</th>\n",
       "      <th>Pagina2</th>\n",
       "      <th>TercersEnComu</th>\n",
       "      <th>Interseccio</th>\n",
       "    </tr>\n",
       "  </thead>\n",
       "  <tbody>\n",
       "    <tr>\n",
       "      <th>0</th>\n",
       "      <td>www.amazon.es</td>\n",
       "      <td>www.elcorteingles.es</td>\n",
       "      <td>[]</td>\n",
       "      <td>0</td>\n",
       "    </tr>\n",
       "    <tr>\n",
       "      <th>1</th>\n",
       "      <td>www.amazon.es</td>\n",
       "      <td>www.mediamarkt.es</td>\n",
       "      <td>[]</td>\n",
       "      <td>0</td>\n",
       "    </tr>\n",
       "    <tr>\n",
       "      <th>2</th>\n",
       "      <td>www.amazon.es</td>\n",
       "      <td>www.microsoft.com</td>\n",
       "      <td>[]</td>\n",
       "      <td>0</td>\n",
       "    </tr>\n",
       "    <tr>\n",
       "      <th>3</th>\n",
       "      <td>www.amazon.es</td>\n",
       "      <td>www.omya.com</td>\n",
       "      <td>[]</td>\n",
       "      <td>0</td>\n",
       "    </tr>\n",
       "    <tr>\n",
       "      <th>4</th>\n",
       "      <td>www.amazon.es</td>\n",
       "      <td>www.uoc.edu</td>\n",
       "      <td>[]</td>\n",
       "      <td>0</td>\n",
       "    </tr>\n",
       "    <tr>\n",
       "      <th>5</th>\n",
       "      <td>www.elcorteingles.es</td>\n",
       "      <td>www.amazon.es</td>\n",
       "      <td>[]</td>\n",
       "      <td>0</td>\n",
       "    </tr>\n",
       "    <tr>\n",
       "      <th>6</th>\n",
       "      <td>www.elcorteingles.es</td>\n",
       "      <td>www.mediamarkt.es</td>\n",
       "      <td>[www.googletagmanager.com]</td>\n",
       "      <td>1</td>\n",
       "    </tr>\n",
       "    <tr>\n",
       "      <th>7</th>\n",
       "      <td>www.elcorteingles.es</td>\n",
       "      <td>www.microsoft.com</td>\n",
       "      <td>[www.googletagmanager.com]</td>\n",
       "      <td>1</td>\n",
       "    </tr>\n",
       "    <tr>\n",
       "      <th>8</th>\n",
       "      <td>www.elcorteingles.es</td>\n",
       "      <td>www.omya.com</td>\n",
       "      <td>[www.googletagmanager.com, assets.adobedtm.com]</td>\n",
       "      <td>2</td>\n",
       "    </tr>\n",
       "    <tr>\n",
       "      <th>9</th>\n",
       "      <td>www.elcorteingles.es</td>\n",
       "      <td>www.uoc.edu</td>\n",
       "      <td>[geolocation.onetrust.com, www.googletagmanage...</td>\n",
       "      <td>3</td>\n",
       "    </tr>\n",
       "    <tr>\n",
       "      <th>10</th>\n",
       "      <td>www.mediamarkt.es</td>\n",
       "      <td>www.amazon.es</td>\n",
       "      <td>[]</td>\n",
       "      <td>0</td>\n",
       "    </tr>\n",
       "    <tr>\n",
       "      <th>11</th>\n",
       "      <td>www.mediamarkt.es</td>\n",
       "      <td>www.elcorteingles.es</td>\n",
       "      <td>[www.googletagmanager.com]</td>\n",
       "      <td>1</td>\n",
       "    </tr>\n",
       "    <tr>\n",
       "      <th>12</th>\n",
       "      <td>www.mediamarkt.es</td>\n",
       "      <td>www.microsoft.com</td>\n",
       "      <td>[bat.bing.net, www.facebook.com, www.googletag...</td>\n",
       "      <td>6</td>\n",
       "    </tr>\n",
       "    <tr>\n",
       "      <th>13</th>\n",
       "      <td>www.mediamarkt.es</td>\n",
       "      <td>www.omya.com</td>\n",
       "      <td>[www.google.es, www.googletagmanager.com, regi...</td>\n",
       "      <td>6</td>\n",
       "    </tr>\n",
       "    <tr>\n",
       "      <th>14</th>\n",
       "      <td>www.mediamarkt.es</td>\n",
       "      <td>www.uoc.edu</td>\n",
       "      <td>[www.google.es, www.googletagmanager.com, regi...</td>\n",
       "      <td>6</td>\n",
       "    </tr>\n",
       "    <tr>\n",
       "      <th>15</th>\n",
       "      <td>www.microsoft.com</td>\n",
       "      <td>www.amazon.es</td>\n",
       "      <td>[]</td>\n",
       "      <td>0</td>\n",
       "    </tr>\n",
       "    <tr>\n",
       "      <th>16</th>\n",
       "      <td>www.microsoft.com</td>\n",
       "      <td>www.elcorteingles.es</td>\n",
       "      <td>[www.googletagmanager.com]</td>\n",
       "      <td>1</td>\n",
       "    </tr>\n",
       "    <tr>\n",
       "      <th>17</th>\n",
       "      <td>www.microsoft.com</td>\n",
       "      <td>www.mediamarkt.es</td>\n",
       "      <td>[bat.bing.net, www.facebook.com, www.googletag...</td>\n",
       "      <td>6</td>\n",
       "    </tr>\n",
       "    <tr>\n",
       "      <th>18</th>\n",
       "      <td>www.microsoft.com</td>\n",
       "      <td>www.omya.com</td>\n",
       "      <td>[www.googletagmanager.com, dpm.demdex.net, goo...</td>\n",
       "      <td>3</td>\n",
       "    </tr>\n",
       "    <tr>\n",
       "      <th>19</th>\n",
       "      <td>www.microsoft.com</td>\n",
       "      <td>www.uoc.edu</td>\n",
       "      <td>[www.googletagmanager.com, rum.hlx.page]</td>\n",
       "      <td>2</td>\n",
       "    </tr>\n",
       "    <tr>\n",
       "      <th>20</th>\n",
       "      <td>www.omya.com</td>\n",
       "      <td>www.amazon.es</td>\n",
       "      <td>[]</td>\n",
       "      <td>0</td>\n",
       "    </tr>\n",
       "    <tr>\n",
       "      <th>21</th>\n",
       "      <td>www.omya.com</td>\n",
       "      <td>www.elcorteingles.es</td>\n",
       "      <td>[www.googletagmanager.com, assets.adobedtm.com]</td>\n",
       "      <td>2</td>\n",
       "    </tr>\n",
       "    <tr>\n",
       "      <th>22</th>\n",
       "      <td>www.omya.com</td>\n",
       "      <td>www.mediamarkt.es</td>\n",
       "      <td>[www.google.es, www.googletagmanager.com, regi...</td>\n",
       "      <td>6</td>\n",
       "    </tr>\n",
       "    <tr>\n",
       "      <th>23</th>\n",
       "      <td>www.omya.com</td>\n",
       "      <td>www.microsoft.com</td>\n",
       "      <td>[www.googletagmanager.com, dpm.demdex.net, goo...</td>\n",
       "      <td>3</td>\n",
       "    </tr>\n",
       "    <tr>\n",
       "      <th>24</th>\n",
       "      <td>www.omya.com</td>\n",
       "      <td>www.uoc.edu</td>\n",
       "      <td>[www.google.es, www.googletagmanager.com, regi...</td>\n",
       "      <td>5</td>\n",
       "    </tr>\n",
       "    <tr>\n",
       "      <th>25</th>\n",
       "      <td>www.uoc.edu</td>\n",
       "      <td>www.amazon.es</td>\n",
       "      <td>[]</td>\n",
       "      <td>0</td>\n",
       "    </tr>\n",
       "    <tr>\n",
       "      <th>26</th>\n",
       "      <td>www.uoc.edu</td>\n",
       "      <td>www.elcorteingles.es</td>\n",
       "      <td>[geolocation.onetrust.com, www.googletagmanage...</td>\n",
       "      <td>3</td>\n",
       "    </tr>\n",
       "    <tr>\n",
       "      <th>27</th>\n",
       "      <td>www.uoc.edu</td>\n",
       "      <td>www.mediamarkt.es</td>\n",
       "      <td>[www.google.es, www.googletagmanager.com, regi...</td>\n",
       "      <td>6</td>\n",
       "    </tr>\n",
       "    <tr>\n",
       "      <th>28</th>\n",
       "      <td>www.uoc.edu</td>\n",
       "      <td>www.microsoft.com</td>\n",
       "      <td>[www.googletagmanager.com, rum.hlx.page]</td>\n",
       "      <td>2</td>\n",
       "    </tr>\n",
       "    <tr>\n",
       "      <th>29</th>\n",
       "      <td>www.uoc.edu</td>\n",
       "      <td>www.omya.com</td>\n",
       "      <td>[www.google.es, www.googletagmanager.com, regi...</td>\n",
       "      <td>5</td>\n",
       "    </tr>\n",
       "  </tbody>\n",
       "</table>\n",
       "</div>"
      ],
      "text/plain": [
       "                 Pagina1               Pagina2  \\\n",
       "0          www.amazon.es  www.elcorteingles.es   \n",
       "1          www.amazon.es     www.mediamarkt.es   \n",
       "2          www.amazon.es     www.microsoft.com   \n",
       "3          www.amazon.es          www.omya.com   \n",
       "4          www.amazon.es           www.uoc.edu   \n",
       "5   www.elcorteingles.es         www.amazon.es   \n",
       "6   www.elcorteingles.es     www.mediamarkt.es   \n",
       "7   www.elcorteingles.es     www.microsoft.com   \n",
       "8   www.elcorteingles.es          www.omya.com   \n",
       "9   www.elcorteingles.es           www.uoc.edu   \n",
       "10     www.mediamarkt.es         www.amazon.es   \n",
       "11     www.mediamarkt.es  www.elcorteingles.es   \n",
       "12     www.mediamarkt.es     www.microsoft.com   \n",
       "13     www.mediamarkt.es          www.omya.com   \n",
       "14     www.mediamarkt.es           www.uoc.edu   \n",
       "15     www.microsoft.com         www.amazon.es   \n",
       "16     www.microsoft.com  www.elcorteingles.es   \n",
       "17     www.microsoft.com     www.mediamarkt.es   \n",
       "18     www.microsoft.com          www.omya.com   \n",
       "19     www.microsoft.com           www.uoc.edu   \n",
       "20          www.omya.com         www.amazon.es   \n",
       "21          www.omya.com  www.elcorteingles.es   \n",
       "22          www.omya.com     www.mediamarkt.es   \n",
       "23          www.omya.com     www.microsoft.com   \n",
       "24          www.omya.com           www.uoc.edu   \n",
       "25           www.uoc.edu         www.amazon.es   \n",
       "26           www.uoc.edu  www.elcorteingles.es   \n",
       "27           www.uoc.edu     www.mediamarkt.es   \n",
       "28           www.uoc.edu     www.microsoft.com   \n",
       "29           www.uoc.edu          www.omya.com   \n",
       "\n",
       "                                        TercersEnComu  Interseccio  \n",
       "0                                                  []            0  \n",
       "1                                                  []            0  \n",
       "2                                                  []            0  \n",
       "3                                                  []            0  \n",
       "4                                                  []            0  \n",
       "5                                                  []            0  \n",
       "6                          [www.googletagmanager.com]            1  \n",
       "7                          [www.googletagmanager.com]            1  \n",
       "8     [www.googletagmanager.com, assets.adobedtm.com]            2  \n",
       "9   [geolocation.onetrust.com, www.googletagmanage...            3  \n",
       "10                                                 []            0  \n",
       "11                         [www.googletagmanager.com]            1  \n",
       "12  [bat.bing.net, www.facebook.com, www.googletag...            6  \n",
       "13  [www.google.es, www.googletagmanager.com, regi...            6  \n",
       "14  [www.google.es, www.googletagmanager.com, regi...            6  \n",
       "15                                                 []            0  \n",
       "16                         [www.googletagmanager.com]            1  \n",
       "17  [bat.bing.net, www.facebook.com, www.googletag...            6  \n",
       "18  [www.googletagmanager.com, dpm.demdex.net, goo...            3  \n",
       "19           [www.googletagmanager.com, rum.hlx.page]            2  \n",
       "20                                                 []            0  \n",
       "21    [www.googletagmanager.com, assets.adobedtm.com]            2  \n",
       "22  [www.google.es, www.googletagmanager.com, regi...            6  \n",
       "23  [www.googletagmanager.com, dpm.demdex.net, goo...            3  \n",
       "24  [www.google.es, www.googletagmanager.com, regi...            5  \n",
       "25                                                 []            0  \n",
       "26  [geolocation.onetrust.com, www.googletagmanage...            3  \n",
       "27  [www.google.es, www.googletagmanager.com, regi...            6  \n",
       "28           [www.googletagmanager.com, rum.hlx.page]            2  \n",
       "29  [www.google.es, www.googletagmanager.com, regi...            5  "
      ]
     },
     "execution_count": 11,
     "metadata": {},
     "output_type": "execute_result"
    }
   ],
   "source": [
    "PaginesTercers\n"
   ]
  },
  {
   "cell_type": "markdown",
   "metadata": {},
   "source": [
    "Pregunta 4 - Tercero más frecuente"
   ]
  },
  {
   "cell_type": "code",
   "execution_count": 17,
   "metadata": {},
   "outputs": [
    {
     "name": "stdout",
     "output_type": "stream",
     "text": [
      "El tercero más frecuente es: www.googletagmanager.com, presente en 5 páginas distintas.\n"
     ]
    }
   ],
   "source": [
    "# Descomponemos la lista de terceros en filas individuales\n",
    "df_terceros = pagina.explode(\"thirdParties\")[[\"thirdParties\"]]\n",
    "\n",
    "# Contamos en cuántas páginas aparece cada tercero (frecuencia de terceros únicos)\n",
    "tercero_frecuente = df_terceros[\"thirdParties\"].value_counts().idxmax()\n",
    "num_apariciones = df_terceros[\"thirdParties\"].value_counts().max()\n",
    "\n",
    "# Mostramos el resultado\n",
    "print(f\"El tercero más frecuente es: {tercero_frecuente}, presente en {num_apariciones} páginas distintas.\")\n"
   ]
  },
  {
   "cell_type": "code",
   "execution_count": null,
   "metadata": {},
   "outputs": [],
   "source": []
  }
 ],
 "metadata": {
  "colab": {
   "name": "IB-ActividadLightbeam.ipynb",
   "provenance": []
  },
  "kernelspec": {
   "display_name": "Python 3 (ipykernel)",
   "language": "python",
   "name": "python3"
  },
  "language_info": {
   "codemirror_mode": {
    "name": "ipython",
    "version": 3
   },
   "file_extension": ".py",
   "mimetype": "text/x-python",
   "name": "python",
   "nbconvert_exporter": "python",
   "pygments_lexer": "ipython3",
   "version": "3.10.12"
  }
 },
 "nbformat": 4,
 "nbformat_minor": 4
}
