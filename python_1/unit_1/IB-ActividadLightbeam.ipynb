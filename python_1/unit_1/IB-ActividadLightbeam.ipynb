{
 "cells": [
  {
   "cell_type": "markdown",
   "metadata": {
    "id": "isnt8AJ_AVkK"
   },
   "source": [
    "<div style=\"width: 100%; clear: both;\">\n",
    "    <div style=\"float: left; width: 50%;\">\n",
    "       <img src=\"https://www.uoc.edu/content/experience-fragments/uoc-common/ww/ca/site/header/master/_jcr_content/root/container/uocheader/image.coreimg.png/1707386740074/logo.png\", align=\"left\">\n",
    "    </div>\n",
    "</div>\n",
    "\n",
    "<div style=\"float: right; width: 50%;\">\n",
    "    <p style=\"margin: 0; padding-top: 22px; text-align:right;\">M1.771 · Privacidad</p>\n",
    "    <p style=\"margin: 0; text-align:right;\">Máster Universitario en Ciberseguridad y Privacidad</p>\n",
    "    <p style=\"margin: 0; text-align:right; padding-button: 100px;\">Estudios de Informática, Multimedia y Telecomunicación</p>\n",
    "</div>\n",
    "\n",
    "</div>\n",
    "<div style=\"width: 100%; clear: both;\">\n",
    "<div style=\"width:100%;\">&nbsp;</div>"
   ]
  },
  {
   "cell_type": "markdown",
   "metadata": {
    "id": "I5dXgRwkAVkS"
   },
   "source": [
    "Privacidad\n",
    "============================\n",
    "\n",
    "--- \n",
    "\n",
    "PEC2 - Actividad 3 con datos de Lightbeam\n",
    "-----------------------------------------------------\n",
    "\n",
    "Este *notebook* es una herramienta para responder a las preguntas planteadas en\n",
    "la activitad 3 de la PEC2.\n",
    "\n",
    "### Introducción\n",
    "El conjunto de datos con el que vamos a trabajar (`ThunderbeamData.json`)\n",
    "consta de las páginas registradas con Lightbeam, la extensión del navegador\n",
    "que utiliza visualizaciones interactivas para mostrarnos las relaciones entre \n",
    "terceros y las páginas que visitamos. "
   ]
  },
  {
   "cell_type": "code",
   "execution_count": 1,
   "metadata": {
    "id": "LqKPCymOAVkT"
   },
   "outputs": [],
   "source": [
    "import pandas as pd\n",
    "import json\n",
    "\n",
    "# Generamos un dataframe con los datos que hemos descargado del Lightbeam.\n",
    "df = pd.read_json('ThunderbeamData.json')\n",
    "df = df.transpose()\n",
    "\n",
    "# # Restringimos los registros a las páginas que hemos visitado.\n",
    "pagina = df[df.firstParty == True]"
   ]
  },
  {
   "cell_type": "code",
   "execution_count": 2,
   "metadata": {
    "id": "tfQd0d0-AVkT",
    "outputId": "e6ea64e8-e8cc-41b5-fd46-f4ba89d6c6b5",
    "scrolled": true
   },
   "outputs": [
    {
     "name": "stdout",
     "output_type": "stream",
     "text": [
      "['hostname' 'firstPartyHostnames' 'firstParty' 'thirdParties']\n",
      "docs.google.com              docs.google.com\n",
      "elpais.com                        elpais.com\n",
      "www.lavanguardia.com    www.lavanguardia.com\n",
      "Name: hostname, dtype: object\n"
     ]
    }
   ],
   "source": [
    "# Imprimimos las columnas del dataframe que hemos cargado.\n",
    "print(pagina.columns.values)\n",
    "\n",
    "# Imprimimos la lista de páginas que hemos visitado.\n",
    "print(pagina.hostname)"
   ]
  },
  {
   "cell_type": "code",
   "execution_count": 3,
   "metadata": {
    "id": "-9piy2eiAVkU"
   },
   "outputs": [],
   "source": [
    "# Generamos las parejas de páginas, la lista de terceros en común, y cuántos son.\n",
    "PaginesTercers = [[pagina.hostname[u], \n",
    "                   pagina.hostname[v], \n",
    "                   list(set(pagina.thirdParties[u]) & set(pagina.thirdParties[v])), \n",
    "                   len(list(set(pagina.thirdParties[u]) & set(pagina.thirdParties[v])))]\n",
    "                  for u in pagina.index \n",
    "                  for v in pagina.index\n",
    "                  if u != v]\n",
    "\n",
    "# Convertimos los datos que hemos calculado en un dataframe.\n",
    "PaginesTercers = pd.DataFrame(PaginesTercers, \n",
    "                              columns = ['Pagina1', \n",
    "                                         'Pagina2', \n",
    "                                         'TercersEnComu', \n",
    "                                         'Interseccio'])  "
   ]
  },
  {
   "cell_type": "code",
   "execution_count": 4,
   "metadata": {
    "id": "ckjxAmohAVkV",
    "outputId": "23eee780-e896-4de9-e093-f90753c98cbf"
   },
   "outputs": [
    {
     "data": {
      "text/plain": [
       "Pagina1                        elpais.com\n",
       "Pagina2              www.lavanguardia.com\n",
       "TercersEnComu    [sdk.privacy-center.org]\n",
       "Interseccio                             1\n",
       "Name: 3, dtype: object"
      ]
     },
     "execution_count": 4,
     "metadata": {},
     "output_type": "execute_result"
    }
   ],
   "source": [
    "# Calculamos cuáles son las páginas que tienen más terceros en común.\n",
    "PaginesTercers.iloc[PaginesTercers.Interseccio.idxmax()]\n"
   ]
  },
  {
   "cell_type": "code",
   "execution_count": 7,
   "metadata": {},
   "outputs": [
    {
     "data": {
      "text/html": [
       "<div>\n",
       "<style scoped>\n",
       "    .dataframe tbody tr th:only-of-type {\n",
       "        vertical-align: middle;\n",
       "    }\n",
       "\n",
       "    .dataframe tbody tr th {\n",
       "        vertical-align: top;\n",
       "    }\n",
       "\n",
       "    .dataframe thead th {\n",
       "        text-align: right;\n",
       "    }\n",
       "</style>\n",
       "<table border=\"1\" class=\"dataframe\">\n",
       "  <thead>\n",
       "    <tr style=\"text-align: right;\">\n",
       "      <th></th>\n",
       "      <th>Pagina1</th>\n",
       "      <th>Pagina2</th>\n",
       "      <th>TercersEnComu</th>\n",
       "      <th>Interseccio</th>\n",
       "    </tr>\n",
       "  </thead>\n",
       "  <tbody>\n",
       "    <tr>\n",
       "      <th>0</th>\n",
       "      <td>docs.google.com</td>\n",
       "      <td>elpais.com</td>\n",
       "      <td>[]</td>\n",
       "      <td>0</td>\n",
       "    </tr>\n",
       "    <tr>\n",
       "      <th>1</th>\n",
       "      <td>docs.google.com</td>\n",
       "      <td>www.lavanguardia.com</td>\n",
       "      <td>[]</td>\n",
       "      <td>0</td>\n",
       "    </tr>\n",
       "    <tr>\n",
       "      <th>2</th>\n",
       "      <td>elpais.com</td>\n",
       "      <td>docs.google.com</td>\n",
       "      <td>[]</td>\n",
       "      <td>0</td>\n",
       "    </tr>\n",
       "    <tr>\n",
       "      <th>3</th>\n",
       "      <td>elpais.com</td>\n",
       "      <td>www.lavanguardia.com</td>\n",
       "      <td>[sdk.privacy-center.org]</td>\n",
       "      <td>1</td>\n",
       "    </tr>\n",
       "    <tr>\n",
       "      <th>4</th>\n",
       "      <td>www.lavanguardia.com</td>\n",
       "      <td>docs.google.com</td>\n",
       "      <td>[]</td>\n",
       "      <td>0</td>\n",
       "    </tr>\n",
       "    <tr>\n",
       "      <th>5</th>\n",
       "      <td>www.lavanguardia.com</td>\n",
       "      <td>elpais.com</td>\n",
       "      <td>[sdk.privacy-center.org]</td>\n",
       "      <td>1</td>\n",
       "    </tr>\n",
       "  </tbody>\n",
       "</table>\n",
       "</div>"
      ],
      "text/plain": [
       "                Pagina1               Pagina2             TercersEnComu  \\\n",
       "0       docs.google.com            elpais.com                        []   \n",
       "1       docs.google.com  www.lavanguardia.com                        []   \n",
       "2            elpais.com       docs.google.com                        []   \n",
       "3            elpais.com  www.lavanguardia.com  [sdk.privacy-center.org]   \n",
       "4  www.lavanguardia.com       docs.google.com                        []   \n",
       "5  www.lavanguardia.com            elpais.com  [sdk.privacy-center.org]   \n",
       "\n",
       "   Interseccio  \n",
       "0            0  \n",
       "1            0  \n",
       "2            0  \n",
       "3            1  \n",
       "4            0  \n",
       "5            1  "
      ]
     },
     "execution_count": 7,
     "metadata": {},
     "output_type": "execute_result"
    }
   ],
   "source": [
    "PaginesTercers\n"
   ]
  }
 ],
 "metadata": {
  "colab": {
   "name": "IB-ActividadLightbeam.ipynb",
   "provenance": []
  },
  "kernelspec": {
   "display_name": "Python 3 (ipykernel)",
   "language": "python",
   "name": "python3"
  },
  "language_info": {
   "codemirror_mode": {
    "name": "ipython",
    "version": 3
   },
   "file_extension": ".py",
   "mimetype": "text/x-python",
   "name": "python",
   "nbconvert_exporter": "python",
   "pygments_lexer": "ipython3",
   "version": "3.11.6"
  }
 },
 "nbformat": 4,
 "nbformat_minor": 4
}
